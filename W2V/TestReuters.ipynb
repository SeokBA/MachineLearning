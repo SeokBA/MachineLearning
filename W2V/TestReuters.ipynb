{
 "cells": [
  {
   "cell_type": "code",
   "execution_count": 26,
   "metadata": {
    "pycharm": {
     "is_executing": false
    }
   },
   "outputs": [],
   "source": [
    "from tensorflow.keras.datasets import reuters\n",
    "from tensorflow.keras.models import Sequential\n",
    "from tensorflow.keras.layers import Dense, LSTM, Embedding\n",
    "from tensorflow.keras.preprocessing.sequence import pad_sequences\n",
    "from tensorflow.keras.utils import to_categorical\n",
    "import matplotlib.pyplot as plt"
   ]
  },
  {
   "cell_type": "code",
   "execution_count": 13,
   "metadata": {},
   "outputs": [],
   "source": [
    "(X_train, y_train), (X_test, y_test) = reuters.load_data(num_words=1000, test_split=0.2)"
   ]
  },
  {
   "cell_type": "code",
   "execution_count": 30,
   "metadata": {},
   "outputs": [
    {
     "data": {
      "text/plain": [
       "array([[  0,   0,   0, ...,  15,  17,  12],\n",
       "       [  0,   0,   0, ..., 505,  17,  12],\n",
       "       [ 19, 758,  15, ...,  11,  17,  12],\n",
       "       ...,\n",
       "       [  0,   0,   0, ..., 407,  17,  12],\n",
       "       [ 88,   2,  72, ..., 364,  17,  12],\n",
       "       [125,   2,  21, ..., 113,  17,  12]], dtype=int32)"
      ]
     },
     "execution_count": 30,
     "metadata": {},
     "output_type": "execute_result"
    }
   ],
   "source": [
    "X_train"
   ]
  },
  {
   "cell_type": "code",
   "execution_count": 17,
   "metadata": {},
   "outputs": [],
   "source": [
    "max_len = 100\n",
    "X_train = pad_sequences(X_train, maxlen=max_len) # 훈련용 뉴스 기사 패딩\n",
    "X_test = pad_sequences(X_test, maxlen=max_len) # 테스트용 뉴스 기사 패딩"
   ]
  },
  {
   "cell_type": "code",
   "execution_count": 28,
   "metadata": {},
   "outputs": [
    {
     "data": {
      "text/plain": [
       "array([[  0,   0,   0, ...,  15,  17,  12],\n",
       "       [  0,   0,   0, ..., 505,  17,  12],\n",
       "       [ 19, 758,  15, ...,  11,  17,  12],\n",
       "       ...,\n",
       "       [  0,   0,   0, ..., 407,  17,  12],\n",
       "       [ 88,   2,  72, ..., 364,  17,  12],\n",
       "       [125,   2,  21, ..., 113,  17,  12]], dtype=int32)"
      ]
     },
     "execution_count": 28,
     "metadata": {},
     "output_type": "execute_result"
    }
   ],
   "source": [
    "X_train"
   ]
  },
  {
   "cell_type": "code",
   "execution_count": 21,
   "metadata": {},
   "outputs": [],
   "source": [
    "y_train = to_categorical(y_train) # 훈련용 뉴스 기사 레이블의 원-핫 인코딩\n",
    "y_test = to_categorical(y_test) # 테스트용 뉴스 기사 레이블의 원-핫 인코딩"
   ]
  },
  {
   "cell_type": "code",
   "execution_count": 31,
   "metadata": {},
   "outputs": [
    {
     "data": {
      "text/plain": [
       "array([[0., 0., 0., ..., 0., 0., 0.],\n",
       "       [0., 0., 0., ..., 0., 0., 0.],\n",
       "       [0., 0., 0., ..., 0., 0., 0.],\n",
       "       ...,\n",
       "       [0., 0., 0., ..., 0., 0., 0.],\n",
       "       [0., 0., 0., ..., 0., 0., 0.],\n",
       "       [0., 0., 0., ..., 0., 0., 0.]], dtype=float32)"
      ]
     },
     "execution_count": 31,
     "metadata": {},
     "output_type": "execute_result"
    }
   ],
   "source": [
    "y_train"
   ]
  },
  {
   "cell_type": "code",
   "execution_count": 18,
   "metadata": {},
   "outputs": [],
   "source": [
    "model = Sequential()\n",
    "model.add(Embedding(1000, 120))\n",
    "model.add(LSTM(120))\n",
    "model.add(Dense(46, activation='softmax'))"
   ]
  },
  {
   "cell_type": "code",
   "execution_count": 19,
   "metadata": {},
   "outputs": [],
   "source": [
    "model.compile(loss='categorical_crossentropy', optimizer='adam', metrics=['accuracy'])"
   ]
  },
  {
   "cell_type": "code",
   "execution_count": 22,
   "metadata": {},
   "outputs": [
    {
     "name": "stdout",
     "output_type": "stream",
     "text": [
      "Train on 8982 samples, validate on 2246 samples\n",
      "Epoch 1/20\n",
      "8982/8982 [==============================] - 12s 1ms/sample - loss: 2.5344 - accuracy: 0.3673 - val_loss: 2.1200 - val_accuracy: 0.4947\n",
      "Epoch 2/20\n",
      "8982/8982 [==============================] - 10s 1ms/sample - loss: 2.0499 - accuracy: 0.4918 - val_loss: 1.9746 - val_accuracy: 0.5093\n",
      "Epoch 3/20\n",
      "8982/8982 [==============================] - 10s 1ms/sample - loss: 1.8421 - accuracy: 0.5366 - val_loss: 1.7423 - val_accuracy: 0.5588\n",
      "Epoch 4/20\n",
      "8982/8982 [==============================] - 11s 1ms/sample - loss: 1.6845 - accuracy: 0.5689 - val_loss: 1.7327 - val_accuracy: 0.5574\n",
      "Epoch 5/20\n",
      "8982/8982 [==============================] - 11s 1ms/sample - loss: 1.6011 - accuracy: 0.5963 - val_loss: 1.6086 - val_accuracy: 0.5966\n",
      "Epoch 6/20\n",
      "8982/8982 [==============================] - 11s 1ms/sample - loss: 1.4794 - accuracy: 0.6217 - val_loss: 1.6134 - val_accuracy: 0.6046\n",
      "Epoch 7/20\n",
      "8982/8982 [==============================] - 11s 1ms/sample - loss: 1.3826 - accuracy: 0.6431 - val_loss: 1.4838 - val_accuracy: 0.6180\n",
      "Epoch 8/20\n",
      "8982/8982 [==============================] - 11s 1ms/sample - loss: 1.3228 - accuracy: 0.6555 - val_loss: 1.4082 - val_accuracy: 0.6425\n",
      "Epoch 9/20\n",
      "8982/8982 [==============================] - 11s 1ms/sample - loss: 1.2634 - accuracy: 0.6746 - val_loss: 1.3694 - val_accuracy: 0.6451\n",
      "Epoch 10/20\n",
      "8982/8982 [==============================] - 11s 1ms/sample - loss: 1.1893 - accuracy: 0.6933 - val_loss: 1.3143 - val_accuracy: 0.6630\n",
      "Epoch 11/20\n",
      "8982/8982 [==============================] - 11s 1ms/sample - loss: 1.1019 - accuracy: 0.7222 - val_loss: 1.2900 - val_accuracy: 0.6687\n",
      "Epoch 12/20\n",
      "8982/8982 [==============================] - 11s 1ms/sample - loss: 1.0627 - accuracy: 0.7312 - val_loss: 1.2526 - val_accuracy: 0.6728\n",
      "Epoch 13/20\n",
      "8982/8982 [==============================] - 11s 1ms/sample - loss: 1.0106 - accuracy: 0.7418 - val_loss: 1.2308 - val_accuracy: 0.6977\n",
      "Epoch 14/20\n",
      "8982/8982 [==============================] - 11s 1ms/sample - loss: 0.9668 - accuracy: 0.7536 - val_loss: 1.2286 - val_accuracy: 0.6928\n",
      "Epoch 15/20\n",
      "8982/8982 [==============================] - 11s 1ms/sample - loss: 0.9250 - accuracy: 0.7653 - val_loss: 1.1838 - val_accuracy: 0.7057\n",
      "Epoch 16/20\n",
      "8982/8982 [==============================] - 11s 1ms/sample - loss: 0.8952 - accuracy: 0.7705 - val_loss: 1.1747 - val_accuracy: 0.7079\n",
      "Epoch 17/20\n",
      "8982/8982 [==============================] - 11s 1ms/sample - loss: 0.8355 - accuracy: 0.7895 - val_loss: 1.1815 - val_accuracy: 0.7097\n",
      "Epoch 18/20\n",
      "8982/8982 [==============================] - 11s 1ms/sample - loss: 0.8263 - accuracy: 0.7897 - val_loss: 1.1571 - val_accuracy: 0.7133\n",
      "Epoch 19/20\n",
      "8982/8982 [==============================] - 11s 1ms/sample - loss: 0.7815 - accuracy: 0.8019 - val_loss: 1.1742 - val_accuracy: 0.7093\n",
      "Epoch 20/20\n",
      "8982/8982 [==============================] - 11s 1ms/sample - loss: 0.7442 - accuracy: 0.8110 - val_loss: 1.1891 - val_accuracy: 0.7088\n"
     ]
    }
   ],
   "source": [
    "history = model.fit(X_train, y_train, batch_size=100, epochs=20, validation_data=(X_test, y_test))"
   ]
  },
  {
   "cell_type": "code",
   "execution_count": 23,
   "metadata": {},
   "outputs": [
    {
     "name": "stdout",
     "output_type": "stream",
     "text": [
      "2246/2246 [==============================] - 1s 396us/sample - loss: 1.1891 - accuracy: 0.7088\n",
      "\n",
      " 테스트 정확도: 0.7088\n"
     ]
    }
   ],
   "source": [
    "print(\"\\n 테스트 정확도: %.4f\" % (model.evaluate(X_test, y_test)[1]))"
   ]
  },
  {
   "cell_type": "code",
   "execution_count": 27,
   "metadata": {},
   "outputs": [
    {
     "data": {
      "image/png": "[encoded data removed]",
      "text/plain": [
       "<Figure size 432x288 with 1 Axes>"
      ]
     },
     "metadata": {
      "needs_background": "light"
     },
     "output_type": "display_data"
    }
   ],
   "source": [
    "epochs = range(1, len(history.history['accuracy']) + 1)\n",
    "plt.plot(epochs, history.history['loss'])\n",
    "plt.plot(epochs, history.history['val_loss'])\n",
    "plt.title('model loss')\n",
    "plt.ylabel('loss')\n",
    "plt.xlabel('epoch')\n",
    "plt.legend(['train', 'test'], loc='upper left')\n",
    "plt.show()"
   ]
  },
  {
   "cell_type": "code",
   "execution_count": null,
   "metadata": {},
   "outputs": [],
   "source": []
  }
 ],
 "metadata": {
  "kernelspec": {
   "display_name": "Python 3",
   "language": "python",
   "name": "python3"
  },
  "language_info": {
   "codemirror_mode": {
    "name": "ipython",
    "version": 3
   },
   "file_extension": ".py",
   "mimetype": "text/x-python",
   "name": "python",
   "nbconvert_exporter": "python",
   "pygments_lexer": "ipython3",
   "version": "3.7.4"
  }
 },
 "nbformat": 4,
 "nbformat_minor": 2
}
