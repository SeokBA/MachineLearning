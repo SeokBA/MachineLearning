{
 "cells": [
  {
   "cell_type": "code",
   "execution_count": 1,
   "metadata": {},
   "outputs": [],
   "source": [
    "from gensim.models import Word2Vec\n",
    "\n",
    "tokenized_contents = './resource/1_tokenized/news_tokenized.csv'\n",
    "output_file_head_name = './resource/2_processed/processed_news_contents.txt'\n",
    "model_file_head_name = './resource/3_w2v/w2v_content'"
   ]
  },
  {
   "cell_type": "code",
   "execution_count": 2,
   "metadata": {},
   "outputs": [],
   "source": [
    "# 문장 분류\n",
    "with open(tokenized_contents, 'r', encoding='utf-8') as input_file, open(output_file_head_name, 'w', encoding='utf-8') as output_file:\n",
    "    next(input_file)  # 첫 줄 무시\n",
    "    for line in input_file:\n",
    "        category, title, title_cleaned, tokenized_morphs, tokenized_nouns = line.strip().split(',')\n",
    "        output_file.writelines(title_cleaned + '\\n')"
   ]
  },
  {
   "cell_type": "code",
   "execution_count": 3,
   "metadata": {},
   "outputs": [],
   "source": [
    "from gensim.models import KeyedVectors\n",
    "from tensorflow.keras.preprocessing.text import Tokenizer\n",
    "# 문장 모델 저장\n",
    "corpus = [sent.strip().split(\" \") for sent in\n",
    "          open(output_file_head_name, 'r', encoding='utf-8')]\n",
    "model = Word2Vec(sentences=corpus, size=100, window=5, min_count=5, workers=4, sg=1)\n",
    "model.wv.save_word2vec_format(model_file_head_name)"
   ]
  },
  {
   "cell_type": "code",
   "execution_count": 4,
   "metadata": {},
   "outputs": [
    {
     "name": "stdout",
     "output_type": "stream",
     "text": [
      "[('윤리위', 0.9976882338523865), ('변혁', 0.9974894523620605), ('바른미래당', 0.9959961175918579), ('손학규', 0.9951093196868896), ('바른미래', 0.992421567440033), ('원내대표직', 0.9909025430679321), ('기자간담회', 0.988886833190918), ('박탈', 0.9874577522277832), ('모두발언하는', 0.9835494756698608), ('수행', 0.981818437576294)]\n"
     ]
    }
   ],
   "source": [
    "loaded_model = KeyedVectors.load_word2vec_format(model_file_head_name)\n",
    "model_result = loaded_model.most_similar(\"유승민\")\n",
    "print(model_result)"
   ]
  },
  {
   "cell_type": "code",
   "execution_count": null,
   "metadata": {},
   "outputs": [],
   "source": []
  }
 ],
 "metadata": {
  "kernelspec": {
   "display_name": "Python 3",
   "language": "python",
   "name": "python3"
  },
  "language_info": {
   "codemirror_mode": {
    "name": "ipython",
    "version": 3
   },
   "file_extension": ".py",
   "mimetype": "text/x-python",
   "name": "python",
   "nbconvert_exporter": "python",
   "pygments_lexer": "ipython3",
   "version": "3.7.4"
  }
 },
 "nbformat": 4,
 "nbformat_minor": 2
}
